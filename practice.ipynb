{
 "cells": [
  {
   "cell_type": "code",
   "execution_count": 3,
   "id": "3bf801bb-e8b4-4d86-9c1c-9287a47fd0f7",
   "metadata": {},
   "outputs": [],
   "source": [
    "from  pyspark.sql import SparkSession\n",
    "from pyspark.sql.types import StructType,StructField,IntegerType,StringType\n",
    "import pyspark.sql.functions as func"
   ]
  },
  {
   "cell_type": "code",
   "execution_count": 5,
   "id": "effd191b-93eb-46c9-92da-93d81ec81903",
   "metadata": {},
   "outputs": [
    {
     "name": "stderr",
     "output_type": "stream",
     "text": [
      "25/02/27 16:03:17 WARN Utils: Your hostname, Munis-MacBook-Pro.local resolves to a loopback address: 127.0.0.1; using 192.168.1.114 instead (on interface en0)\n",
      "25/02/27 16:03:17 WARN Utils: Set SPARK_LOCAL_IP if you need to bind to another address\n",
      "Setting default log level to \"WARN\".\n",
      "To adjust logging level use sc.setLogLevel(newLevel). For SparkR, use setLogLevel(newLevel).\n",
      "25/02/27 16:03:18 WARN NativeCodeLoader: Unable to load native-hadoop library for your platform... using builtin-java classes where applicable\n"
     ]
    }
   ],
   "source": [
    "spark=SparkSession.builder.appName(\"FirstApp\").getOrCreate()"
   ]
  },
  {
   "cell_type": "code",
   "execution_count": 7,
   "id": "bbf4932e-cc00-4c69-b880-00f8c1eaeacb",
   "metadata": {},
   "outputs": [],
   "source": [
    "myschema=StructType([StructField(\"userID\",IntegerType(),True),\n",
    "                     StructField(\"name\",StringType(),True),\n",
    "                     StructField(\"age\",IntegerType(),True),\n",
    "                     StructField(\"friends\",IntegerType(),True),])"
   ]
  },
  {
   "cell_type": "code",
   "execution_count": 8,
   "id": "9c9e168d-c064-4ba6-be53-df288cf53bf8",
   "metadata": {},
   "outputs": [],
   "source": [
    "people=spark.read.format(\"csv\").schema(myschema).option(\"path\",\"file:/Users/muni/spark_tutorials/fakefriends.csv\").load()"
   ]
  },
  {
   "cell_type": "code",
   "execution_count": 9,
   "id": "a4ab0f6e-174b-45f8-8ecc-6bb247d7aca2",
   "metadata": {},
   "outputs": [],
   "source": [
    "output=people.select(people.userID,people.name,people.age,people.friends).where(people.age<30).withColumn('insert_ts',func.current_timestamp()).orderBy(people.userID)"
   ]
  },
  {
   "cell_type": "code",
   "execution_count": 10,
   "id": "d8acdfd9-6240-4a18-b7ca-1ee9db79f713",
   "metadata": {},
   "outputs": [
    {
     "data": {
      "text/plain": [
       "112"
      ]
     },
     "execution_count": 10,
     "metadata": {},
     "output_type": "execute_result"
    }
   ],
   "source": [
    "output.count()\n"
   ]
  },
  {
   "cell_type": "code",
   "execution_count": 11,
   "id": "8b80b137-3765-49b6-a9ce-f7b936b1fdad",
   "metadata": {},
   "outputs": [],
   "source": [
    "output.createOrReplaceTempView(\"peoples\")"
   ]
  },
  {
   "cell_type": "code",
   "execution_count": 21,
   "id": "eb2f5b6c-d32e-44f4-bf87-0684c1bdd652",
   "metadata": {},
   "outputs": [
    {
     "name": "stdout",
     "output_type": "stream",
     "text": [
      "+--------+---+-------+--------------------------+\n",
      "|name    |age|friends|insert_ts                 |\n",
      "+--------+---+-------+--------------------------+\n",
      "|Jean-Luc|26 |2      |2025-02-27 16:13:15.063654|\n",
      "|Hugh    |27 |181    |2025-02-27 16:13:15.063654|\n",
      "|Weyoun  |22 |323    |2025-02-27 16:13:15.063654|\n",
      "|Miles   |19 |268    |2025-02-27 16:13:15.063654|\n",
      "|Julian  |25 |1      |2025-02-27 16:13:15.063654|\n",
      "|Ben     |21 |445    |2025-02-27 16:13:15.063654|\n",
      "|Julian  |22 |100    |2025-02-27 16:13:15.063654|\n",
      "|Nog     |26 |281    |2025-02-27 16:13:15.063654|\n",
      "|Beverly |27 |305    |2025-02-27 16:13:15.063654|\n",
      "|Morn    |25 |96     |2025-02-27 16:13:15.063654|\n",
      "|Brunt   |24 |49     |2025-02-27 16:13:15.063654|\n",
      "|Nog     |20 |1      |2025-02-27 16:13:15.063654|\n",
      "|Beverly |19 |269    |2025-02-27 16:13:15.063654|\n",
      "|Brunt   |19 |5      |2025-02-27 16:13:15.063654|\n",
      "|Geordi  |20 |100    |2025-02-27 16:13:15.063654|\n",
      "|Geordi  |21 |477    |2025-02-27 16:13:15.063654|\n",
      "|Kasidy  |22 |179    |2025-02-27 16:13:15.063654|\n",
      "|Brunt   |20 |384    |2025-02-27 16:13:15.063654|\n",
      "|Ben     |28 |311    |2025-02-27 16:13:15.063654|\n",
      "|Worf    |24 |492    |2025-02-27 16:13:15.063654|\n",
      "|Odo     |29 |173    |2025-02-27 16:13:15.063654|\n",
      "|Ezri    |25 |233    |2025-02-27 16:13:15.063654|\n",
      "|Beverly |18 |499    |2025-02-27 16:13:15.063654|\n",
      "|Leeta   |25 |274    |2025-02-27 16:13:15.063654|\n",
      "|Morn    |25 |13     |2025-02-27 16:13:15.063654|\n",
      "|Dukat   |18 |397    |2025-02-27 16:13:15.063654|\n",
      "|Ben     |28 |304    |2025-02-27 16:13:15.063654|\n",
      "|Worf    |29 |344    |2025-02-27 16:13:15.063654|\n",
      "|Brunt   |26 |84     |2025-02-27 16:13:15.063654|\n",
      "|Quark   |19 |265    |2025-02-27 16:13:15.063654|\n",
      "|Will    |19 |335    |2025-02-27 16:13:15.063654|\n",
      "|Martok  |28 |32     |2025-02-27 16:13:15.063654|\n",
      "|Miles   |22 |93     |2025-02-27 16:13:15.063654|\n",
      "|Leeta   |26 |282    |2025-02-27 16:13:15.063654|\n",
      "|Lwaxana |25 |10     |2025-02-27 16:13:15.063654|\n",
      "|Weyoun  |29 |126    |2025-02-27 16:13:15.063654|\n",
      "|Leeta   |23 |129    |2025-02-27 16:13:15.063654|\n",
      "|Kasidy  |26 |381    |2025-02-27 16:13:15.063654|\n",
      "|Weyoun  |26 |145    |2025-02-27 16:13:15.063654|\n",
      "|Kasidy  |21 |472    |2025-02-27 16:13:15.063654|\n",
      "|Ezri    |23 |174    |2025-02-27 16:13:15.063654|\n",
      "|Will    |21 |491    |2025-02-27 16:13:15.063654|\n",
      "|Brunt   |27 |174    |2025-02-27 16:13:15.063654|\n",
      "|Worf    |28 |312    |2025-02-27 16:13:15.063654|\n",
      "|Will    |22 |6      |2025-02-27 16:13:15.063654|\n",
      "|Keiko   |29 |260    |2025-02-27 16:13:15.063654|\n",
      "|Lwaxana |26 |345    |2025-02-27 16:13:15.063654|\n",
      "|Dukat   |27 |150    |2025-02-27 16:13:15.063654|\n",
      "|Elim    |19 |106    |2025-02-27 16:13:15.063654|\n",
      "|Martok  |26 |293    |2025-02-27 16:13:15.063654|\n",
      "|Gowron  |24 |150    |2025-02-27 16:13:15.063654|\n",
      "|Deanna  |25 |305    |2025-02-27 16:13:15.063654|\n",
      "|Data    |25 |101    |2025-02-27 16:13:15.063654|\n",
      "|Dukat   |21 |471    |2025-02-27 16:13:15.063654|\n",
      "|Jean-Luc|28 |174    |2025-02-27 16:13:15.063654|\n",
      "|Dukat   |21 |138    |2025-02-27 16:13:15.063654|\n",
      "|Kasidy  |29 |11     |2025-02-27 16:13:15.063654|\n",
      "|Julian  |29 |228    |2025-02-27 16:13:15.063654|\n",
      "|Gowron  |27 |471    |2025-02-27 16:13:15.063654|\n",
      "|Ezri    |26 |298    |2025-02-27 16:13:15.063654|\n",
      "|Morn    |25 |446    |2025-02-27 16:13:15.063654|\n",
      "|Quark   |29 |367    |2025-02-27 16:13:15.063654|\n",
      "|Beverly |23 |133    |2025-02-27 16:13:15.063654|\n",
      "|Nerys   |26 |492    |2025-02-27 16:13:15.063654|\n",
      "|Worf    |21 |89     |2025-02-27 16:13:15.063654|\n",
      "|Nog     |26 |269    |2025-02-27 16:13:15.063654|\n",
      "|Dukat   |23 |373    |2025-02-27 16:13:15.063654|\n",
      "|Deanna  |23 |65     |2025-02-27 16:13:15.063654|\n",
      "|Weyoun  |28 |108    |2025-02-27 16:13:15.063654|\n",
      "|Will    |19 |404    |2025-02-27 16:13:15.063654|\n",
      "|Quark   |29 |182    |2025-02-27 16:13:15.063654|\n",
      "|Beverly |23 |323    |2025-02-27 16:13:15.063654|\n",
      "|Weyoun  |25 |208    |2025-02-27 16:13:15.063654|\n",
      "|Nog     |29 |236    |2025-02-27 16:13:15.063654|\n",
      "|Julian  |20 |63     |2025-02-27 16:13:15.063654|\n",
      "|Ben     |29 |207    |2025-02-27 16:13:15.063654|\n",
      "|Odo     |27 |337    |2025-02-27 16:13:15.063654|\n",
      "|Will    |28 |180    |2025-02-27 16:13:15.063654|\n",
      "|Data    |18 |326    |2025-02-27 16:13:15.063654|\n",
      "|Odo     |26 |254    |2025-02-27 16:13:15.063654|\n",
      "|Hugh    |29 |329    |2025-02-27 16:13:15.063654|\n",
      "|Kasidy  |20 |277    |2025-02-27 16:13:15.063654|\n",
      "|Deanna  |27 |53     |2025-02-27 16:13:15.063654|\n",
      "|Brunt   |26 |7      |2025-02-27 16:13:15.063654|\n",
      "|Keiko   |19 |119    |2025-02-27 16:13:15.063654|\n",
      "|Elim    |26 |383    |2025-02-27 16:13:15.063654|\n",
      "|Quark   |19 |272    |2025-02-27 16:13:15.063654|\n",
      "|Gowron  |23 |392    |2025-02-27 16:13:15.063654|\n",
      "|Beverly |18 |418    |2025-02-27 16:13:15.063654|\n",
      "|Martok  |22 |266    |2025-02-27 16:13:15.063654|\n",
      "|Keiko   |23 |230    |2025-02-27 16:13:15.063654|\n",
      "|Lwaxana |26 |124    |2025-02-27 16:13:15.063654|\n",
      "|Beverly |24 |401    |2025-02-27 16:13:15.063654|\n",
      "|Data    |29 |128    |2025-02-27 16:13:15.063654|\n",
      "|Weyoun  |21 |224    |2025-02-27 16:13:15.063654|\n",
      "|Kasidy  |18 |24     |2025-02-27 16:13:15.063654|\n",
      "|Nog     |19 |267    |2025-02-27 16:13:15.063654|\n",
      "|Jadzia  |26 |391    |2025-02-27 16:13:15.063654|\n",
      "|Worf    |24 |77     |2025-02-27 16:13:15.063654|\n",
      "|Brunt   |28 |258    |2025-02-27 16:13:15.063654|\n",
      "|Data    |18 |417    |2025-02-27 16:13:15.063654|\n",
      "|Keiko   |18 |472    |2025-02-27 16:13:15.063654|\n",
      "|Martok  |28 |34     |2025-02-27 16:13:15.063654|\n",
      "|Geordi  |26 |84     |2025-02-27 16:13:15.063654|\n",
      "|Nerys   |23 |287    |2025-02-27 16:13:15.063654|\n",
      "|Beverly |25 |485    |2025-02-27 16:13:15.063654|\n",
      "|Nog     |27 |154    |2025-02-27 16:13:15.063654|\n",
      "|Jean-Luc|28 |378    |2025-02-27 16:13:15.063654|\n",
      "|Leeta   |22 |478    |2025-02-27 16:13:15.063654|\n",
      "|Dukat   |19 |36     |2025-02-27 16:13:15.063654|\n",
      "|Hugh    |23 |357    |2025-02-27 16:13:15.063654|\n",
      "|Kasidy  |18 |194    |2025-02-27 16:13:15.063654|\n",
      "+--------+---+-------+--------------------------+\n",
      "\n"
     ]
    }
   ],
   "source": [
    "df = spark.sql(\"select name,age,friends,insert_ts from peoples\")\n",
    "df.show(truncate=False, n=df.count())\n"
   ]
  },
  {
   "cell_type": "markdown",
   "id": "bc392ee0-409f-4cfa-9888-a86c47379d44",
   "metadata": {},
   "source": [
    "# RDD"
   ]
  },
  {
   "cell_type": "code",
   "execution_count": 13,
   "id": "79592f6a-0f4c-49a6-a9bc-1217575a5703",
   "metadata": {},
   "outputs": [
    {
     "name": "stdout",
     "output_type": "stream",
     "text": [
      "[('Alice', 25), ('Bob', 30)]\n"
     ]
    }
   ],
   "source": [
    "rdd = spark.sparkContext.parallelize([(\"Alice\",25),(\"Bob\",30)])\n",
    "print(rdd.collect())"
   ]
  },
  {
   "cell_type": "markdown",
   "id": "9cc4cecb-4163-4546-8baa-bfa3027bc377",
   "metadata": {},
   "source": [
    "# DF"
   ]
  },
  {
   "cell_type": "code",
   "execution_count": 22,
   "id": "6cbbce14-88cd-4a3d-ba7c-29a8c833aea1",
   "metadata": {},
   "outputs": [
    {
     "name": "stdout",
     "output_type": "stream",
     "text": [
      "+-----+---+\n",
      "| name|age|\n",
      "+-----+---+\n",
      "|Alice| 25|\n",
      "|  Bob| 30|\n",
      "+-----+---+\n",
      "\n"
     ]
    }
   ],
   "source": [
    "from pyspark.sql import Row\n",
    "\n",
    "df = spark.createDataFrame([Row(name=\"Alice\", age=25), Row(name=\"Bob\", age=30)])\n",
    "df.show()"
   ]
  },
  {
   "cell_type": "code",
   "execution_count": null,
   "id": "db207668-37e6-4719-8d6c-0385b3fb93a0",
   "metadata": {},
   "outputs": [],
   "source": []
  }
 ],
 "metadata": {
  "kernelspec": {
   "display_name": "Python 3 (ipykernel)",
   "language": "python",
   "name": "python3"
  },
  "language_info": {
   "codemirror_mode": {
    "name": "ipython",
    "version": 3
   },
   "file_extension": ".py",
   "mimetype": "text/x-python",
   "name": "python",
   "nbconvert_exporter": "python",
   "pygments_lexer": "ipython3",
   "version": "3.9.6"
  }
 },
 "nbformat": 4,
 "nbformat_minor": 5
}
