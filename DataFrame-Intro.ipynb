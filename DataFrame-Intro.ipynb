{
 "cells": [
  {
   "cell_type": "code",
   "execution_count": 1,
   "id": "04e2fc8b-70d4-4c88-a825-8194c2f0f29c",
   "metadata": {},
   "outputs": [],
   "source": [
    "from pyspark.sql import SparkSession\n",
    "from pyspark.sql.functions import desc"
   ]
  },
  {
   "cell_type": "code",
   "execution_count": 2,
   "id": "6e6fce75-fee1-41b6-b901-99da2862aed0",
   "metadata": {},
   "outputs": [
    {
     "name": "stderr",
     "output_type": "stream",
     "text": [
      "25/02/27 17:39:53 WARN Utils: Your hostname, Munis-MacBook-Pro.local resolves to a loopback address: 127.0.0.1; using 192.168.1.114 instead (on interface en0)\n",
      "25/02/27 17:39:53 WARN Utils: Set SPARK_LOCAL_IP if you need to bind to another address\n",
      "Setting default log level to \"WARN\".\n",
      "To adjust logging level use sc.setLogLevel(newLevel). For SparkR, use setLogLevel(newLevel).\n",
      "25/02/27 17:39:54 WARN NativeCodeLoader: Unable to load native-hadoop library for your platform... using builtin-java classes where applicable\n",
      "25/02/27 17:39:54 WARN Utils: Service 'SparkUI' could not bind on port 4040. Attempting port 4041.\n",
      "25/02/27 17:39:54 WARN Utils: Service 'SparkUI' could not bind on port 4041. Attempting port 4042.\n"
     ]
    }
   ],
   "source": [
    "# Create a SparkSession\n",
    "spark = SparkSession.builder.appName(\"DataFrame-Demo\").getOrCreate()"
   ]
  },
  {
   "cell_type": "markdown",
   "id": "4c8c9601-b24f-475f-920c-10876b4fe147",
   "metadata": {},
   "source": [
    "# Using RDDs"
   ]
  },
  {
   "cell_type": "code",
   "execution_count": 3,
   "id": "282dd1c8-de62-4abd-8f2e-e13f560fe463",
   "metadata": {},
   "outputs": [],
   "source": [
    "rdd = spark.sparkContext.textFile(\"file:/Users/muni/spark_tutorials/data.txt\")\n",
    "result_rdd = rdd.flatMap(lambda line: line.split(\" \")) \\\n",
    "    .map(lambda word: (word, 1)) \\\n",
    "    .reduceByKey(lambda a, b: a + b) \\\n",
    "    .sortBy(lambda x: x[1], ascending=False)"
   ]
  },
  {
   "cell_type": "code",
   "execution_count": 4,
   "id": "c7e1f3eb-f64f-43f5-8431-73fa34fca478",
   "metadata": {},
   "outputs": [
    {
     "data": {
      "text/plain": [
       "[('the', 12),\n",
       " ('of', 7),\n",
       " ('a', 7),\n",
       " ('in', 5),\n",
       " ('distributed', 5),\n",
       " ('Spark', 4),\n",
       " ('is', 3),\n",
       " ('as', 3),\n",
       " ('API', 3),\n",
       " ('on', 3)]"
      ]
     },
     "execution_count": 4,
     "metadata": {},
     "output_type": "execute_result"
    }
   ],
   "source": [
    "result_rdd.take(10)"
   ]
  },
  {
   "cell_type": "markdown",
   "id": "c9623432-38dc-4cd6-a8ba-32e66c62cb09",
   "metadata": {},
   "source": [
    "### Using DataFrames"
   ]
  },
  {
   "cell_type": "code",
   "execution_count": 7,
   "id": "2faeb5f2-0068-4232-a27c-1638b2c3ea54",
   "metadata": {},
   "outputs": [],
   "source": [
    "df = spark.read.text(\"file:/Users/muni/spark_tutorials/data.txt\")\n",
    "\n",
    "result_df = df.selectExpr(\"explode(split(value, ' ')) as word\") \\\n",
    "    .groupBy(\"word\").count().orderBy(desc(\"count\"))"
   ]
  },
  {
   "cell_type": "code",
   "execution_count": 8,
   "id": "b3f15d98-8659-4830-a647-b788a75f4b7f",
   "metadata": {},
   "outputs": [
    {
     "data": {
      "text/plain": [
       "[Row(word='the', count=12),\n",
       " Row(word='of', count=7),\n",
       " Row(word='a', count=7),\n",
       " Row(word='in', count=5),\n",
       " Row(word='distributed', count=5),\n",
       " Row(word='Spark', count=4),\n",
       " Row(word='API', count=3),\n",
       " Row(word='RDD', count=3),\n",
       " Row(word='is', count=3),\n",
       " Row(word='on', count=3)]"
      ]
     },
     "execution_count": 8,
     "metadata": {},
     "output_type": "execute_result"
    }
   ],
   "source": [
    "result_df.take(10)"
   ]
  },
  {
   "cell_type": "code",
   "execution_count": null,
   "id": "ab2e2916-a55f-40fd-86e6-69f92b03de76",
   "metadata": {},
   "outputs": [],
   "source": []
  }
 ],
 "metadata": {
  "kernelspec": {
   "display_name": "Python 3 (ipykernel)",
   "language": "python",
   "name": "python3"
  },
  "language_info": {
   "codemirror_mode": {
    "name": "ipython",
    "version": 3
   },
   "file_extension": ".py",
   "mimetype": "text/x-python",
   "name": "python",
   "nbconvert_exporter": "python",
   "pygments_lexer": "ipython3",
   "version": "3.9.6"
  }
 },
 "nbformat": 4,
 "nbformat_minor": 5
}
