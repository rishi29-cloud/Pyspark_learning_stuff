{
 "cells": [
  {
   "cell_type": "code",
   "execution_count": null,
   "id": "3bf801bb-e8b4-4d86-9c1c-9287a47fd0f7",
   "metadata": {},
   "outputs": [],
   "source": [
    "from  pyspark.sql import SparkSession\n",
    "from puspark.sql.types import StructType,StructField,IntegerType,StringType\n",
    "import pyspark.ssql.functions as func"
   ]
  },
  {
   "cell_type": "code",
   "execution_count": null,
   "id": "effd191b-93eb-46c9-92da-93d81ec81903",
   "metadata": {},
   "outputs": [],
   "source": [
    "spark=SparkSession.builder.appName(\"FirstApp\")\\.getOrCreate()"
   ]
  },
  {
   "cell_type": "code",
   "execution_count": null,
   "id": "bbf4932e-cc00-4c69-b880-00f8c1eaeacb",
   "metadata": {},
   "outputs": [],
   "source": [
    "myschema=StructType([\\StructField(\"userID\",IntegerType(),True),\n",
    "                     StructField(\"name\",StringType(),True),\n",
    "                     StructField(\"age\",IntegerType(),True),\n",
    "                     StructField(\"friends\",IntegerType(),True),])"
   ]
  },
  {
   "cell_type": "code",
   "execution_count": null,
   "id": "9c9e168d-c064-4ba6-be53-df288cf53bf8",
   "metadata": {},
   "outputs": [],
   "source": [
    "people=spark.read.format(\"csv\")\\.schema(myschema)\\.option(\"path\",\"file:\")\\.load()"
   ]
  },
  {
   "cell_type": "code",
   "execution_count": null,
   "id": "a4ab0f6e-174b-45f8-8ecc-6bb247d7aca2",
   "metadata": {},
   "outputs": [],
   "source": [
    "output=people.select(people.userID,people.name,people.age,people.friends).where(people.age<30).withColumn('insert_ts',func.current_timestamp()).orderBy(people.userID)"
   ]
  },
  {
   "cell_type": "code",
   "execution_count": null,
   "id": "d8acdfd9-6240-4a18-b7ca-1ee9db79f713",
   "metadata": {},
   "outputs": [],
   "source": [
    "output.count()\n"
   ]
  },
  {
   "cell_type": "markdown",
   "id": "f1a6b0ec-487f-46ff-b8a3-4ef21196f268",
   "metadata": {},
   "source": [
    "output.createOrReplaceTempView(\"peoples\")"
   ]
  },
  {
   "cell_type": "code",
   "execution_count": null,
   "id": "69e4d25b-bcb3-4d20-901c-82de40ebb566",
   "metadata": {},
   "outputs": [],
   "source": [
    "spark.sql(\"select name,age,friends,insert_ts from peoples\").show()\n"
   ]
  },
  {
   "cell_type": "raw",
   "id": "9eca56db-845c-4c73-b86f-7bd8e31d3a87",
   "metadata": {},
   "source": []
  },
  {
   "cell_type": "raw",
   "id": "f3492e31-7faf-4175-8c5e-024e60615486",
   "metadata": {},
   "source": []
  }
 ],
 "metadata": {
  "kernelspec": {
   "display_name": "Python 3 (ipykernel)",
   "language": "python",
   "name": "python3"
  },
  "language_info": {
   "codemirror_mode": {
    "name": "ipython",
    "version": 3
   },
   "file_extension": ".py",
   "mimetype": "text/x-python",
   "name": "python",
   "nbconvert_exporter": "python",
   "pygments_lexer": "ipython3",
   "version": "3.9.6"
  }
 },
 "nbformat": 4,
 "nbformat_minor": 5
}
