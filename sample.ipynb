{
 "cells": [
  {
   "cell_type": "code",
   "execution_count": 2,
   "id": "fdc3df72-4fbd-4be3-8451-ab497f4eccd6",
   "metadata": {},
   "outputs": [],
   "source": [
    "# Import Libraries\n",
    "from pyspark.sql.types import StructType, StructField, IntegerType, StringType\n",
    "import pyspark\n",
    "from pyspark.sql import SparkSession"
   ]
  },
  {
   "cell_type": "code",
   "execution_count": 3,
   "id": "af7d52c3-34e4-4413-b837-d22a5ad9e0d3",
   "metadata": {},
   "outputs": [],
   "source": [
    "\n",
    "# Setup Spark Session\n",
    "spark = SparkSession.builder.appName(\"User_Data\").getOrCreate()\n",
    "\n",
    "# Setup the Schema\n",
    "schema = StructType([\n",
    "    StructField(\"User ID\", IntegerType(), True),\n",
    "    StructField(\"Username\", StringType(), True),\n",
    "    StructField(\"Browser\", StringType(), True),\n",
    "    StructField(\"OS\", StringType(), True),\n",
    "])\n",
    "\n",
    "\n"
   ]
  },
  {
   "cell_type": "code",
   "execution_count": 4,
   "id": "78ea7989-76e4-47cc-a57f-0274efc54d66",
   "metadata": {},
   "outputs": [],
   "source": [
    "# Add Data\n",
    "data = [\n",
    "    (1580, \"Barry\", \"FireFox\", \"Windows\"),\n",
    "    (5820, \"Sam\", \"MS Edge\", \"Linux\"),\n",
    "    (2340, \"Harry\", \"Vivaldi\", \"Windows\"),\n",
    "    (7860, \"Albert\", \"Chrome\", \"Windows\"),\n",
    "    (1123, \"May\", \"Safari\", \"macOS\"),\n",
    "]"
   ]
  },
  {
   "cell_type": "code",
   "execution_count": 5,
   "id": "c7ed8c33-d76e-4a22-af2b-ad10d4e85a0c",
   "metadata": {},
   "outputs": [],
   "source": [
    "# Create DataFrame\n",
    "user_data_df = spark.createDataFrame(data, schema=schema)"
   ]
  },
  {
   "cell_type": "code",
   "execution_count": 6,
   "id": "a1209155-8f8c-401d-8120-986c40286f1f",
   "metadata": {},
   "outputs": [
    {
     "name": "stdout",
     "output_type": "stream",
     "text": [
      "+-------+--------+-------+-------+\n",
      "|User ID|Username|Browser|     OS|\n",
      "+-------+--------+-------+-------+\n",
      "|   1580|   Barry|FireFox|Windows|\n",
      "|   5820|     Sam|MS Edge|  Linux|\n",
      "|   2340|   Harry|Vivaldi|Windows|\n",
      "|   7860|  Albert| Chrome|Windows|\n",
      "|   1123|     May| Safari|  macOS|\n",
      "+-------+--------+-------+-------+\n",
      "\n"
     ]
    }
   ],
   "source": [
    "# Show Data\n",
    "user_data_df.show()"
   ]
  },
  {
   "cell_type": "code",
   "execution_count": null,
   "id": "18515787-217c-4caf-be01-9048749df9cf",
   "metadata": {},
   "outputs": [],
   "source": []
  }
 ],
 "metadata": {
  "kernelspec": {
   "display_name": "Python 3 (ipykernel)",
   "language": "python",
   "name": "python3"
  },
  "language_info": {
   "codemirror_mode": {
    "name": "ipython",
    "version": 3
   },
   "file_extension": ".py",
   "mimetype": "text/x-python",
   "name": "python",
   "nbconvert_exporter": "python",
   "pygments_lexer": "ipython3",
   "version": "3.13.2"
  }
 },
 "nbformat": 4,
 "nbformat_minor": 5
}
